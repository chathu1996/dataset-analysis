{
 "cells": [
  {
   "cell_type": "code",
   "execution_count": 3,
   "metadata": {},
   "outputs": [
    {
     "name": "stdout",
     "output_type": "stream",
     "text": [
      "[['John' 45 22 98 'C' 'F' 'A' 55.0]\n",
      " ['William' 44 23 2 'S' 'F' 'F' 23.0]\n",
      " ['Henry' 22 89 35 'F' 'A' 'S' 48.666666666666664]\n",
      " ['Chris' 88 55 23 'A' 'C' 'F' 55.333333333333336]\n",
      " ['Jack' 45 89 45 'C' 'A' 'C' 59.666666666666664]\n",
      " ['Stephane' 64 45 48 'C' 'C' 'C' 52.333333333333336]\n",
      " ['Harald' 12 12 12 'F' 'F' 'F' 12.0]\n",
      " ['Hearmy' 78 94 65 'A' 'A' 'B' 79.0]\n",
      " ['Sinsel' 98 95 23 'A' 'A' 'F' 72.0]\n",
      " ['George' 45 65 89 'C' 'B' 'A' 66.33333333333333]\n",
      " ['James' 64 32 26 'C' 'F' 'F' 40.666666666666664]\n",
      " ['Jade' 23 78 47 'F' 'A' 'C' 49.333333333333336]\n",
      " ['Tommy' 45 98 14 'C' 'A' 'F' 52.333333333333336]\n",
      " ['Yonus' 78 45 44 'A' 'C' 'S' 55.666666666666664]\n",
      " ['Randy' 95 12 84 'A' 'F' 'A' 63.666666666666664]\n",
      " ['Rex' 31 95 98 'F' 'A' 'A' 74.66666666666667]\n",
      " ['Tucsan' 77 32 56 'A' 'F' 'C' 55.0]\n",
      " ['Amell' 87 78 34 'A' 'A' 'F' 66.33333333333333]\n",
      " ['Vin' 65 45 78 'B' 'C' 'A' 62.666666666666664]\n",
      " ['Hector' 32 12 78 'F' 'F' 'A' 40.666666666666664]]\n"
     ]
    }
   ],
   "source": [
    "import numpy as np\n",
    "\n",
    "data=np.load('new-dataset.npy', allow_pickle=True)\n",
    "print(data)"
   ]
  },
  {
   "cell_type": "code",
   "execution_count": null,
   "metadata": {},
   "outputs": [],
   "source": []
  }
 ],
 "metadata": {
  "kernelspec": {
   "display_name": "Python 3",
   "language": "python",
   "name": "python3"
  },
  "language_info": {
   "codemirror_mode": {
    "name": "ipython",
    "version": 3
   },
   "file_extension": ".py",
   "mimetype": "text/x-python",
   "name": "python",
   "nbconvert_exporter": "python",
   "pygments_lexer": "ipython3",
   "version": "3.7.6"
  }
 },
 "nbformat": 4,
 "nbformat_minor": 4
}
