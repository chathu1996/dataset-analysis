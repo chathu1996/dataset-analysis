{
 "cells": [
  {
   "cell_type": "code",
   "execution_count": 13,
   "metadata": {},
   "outputs": [],
   "source": [
    "import pandas as pd\n",
    "\n",
    "dataset = pd.read_csv(r'C:\\Users\\user\\Desktop\\Advanced-Python-workshop\\Advanced-Python-Day-02-main\\student-marks.csv')"
   ]
  },
  {
   "cell_type": "code",
   "execution_count": 14,
   "metadata": {},
   "outputs": [
    {
     "name": "stdout",
     "output_type": "stream",
     "text": [
      "        Name  Maths  Physics  Chemistry\n",
      "0       John     45       22         98\n",
      "1    William     44       23          2\n",
      "2      Henry     22       89         35\n",
      "3      Chris     88       55         23\n",
      "4       Jack     45       89         45\n",
      "5   Stephane     64       45         48\n",
      "6     Harald     12       12         12\n",
      "7     Hearmy     78       94         65\n",
      "8     Sinsel     98       95         23\n",
      "9     George     45       65         89\n",
      "10     James     64       32         26\n",
      "11      Jade     23       78         47\n",
      "12     Tommy     45       98         14\n",
      "13     Yonus     78       45         44\n",
      "14     Randy     95       12         84\n",
      "15       Rex     31       95         98\n",
      "16    Tucsan     77       32         56\n",
      "17     Amell     87       78         34\n",
      "18       Vin     65       45         78\n",
      "19    Hector     32       12         78\n"
     ]
    }
   ],
   "source": [
    "print(dataset)"
   ]
  },
  {
   "cell_type": "code",
   "execution_count": 15,
   "metadata": {},
   "outputs": [
    {
     "name": "stdout",
     "output_type": "stream",
     "text": [
      "[['John' 45 22 98]\n",
      " ['William' 44 23 2]\n",
      " ['Henry' 22 89 35]\n",
      " ['Chris' 88 55 23]\n",
      " ['Jack' 45 89 45]\n",
      " ['Stephane' 64 45 48]\n",
      " ['Harald' 12 12 12]\n",
      " ['Hearmy' 78 94 65]\n",
      " ['Sinsel' 98 95 23]\n",
      " ['George' 45 65 89]\n",
      " ['James' 64 32 26]\n",
      " ['Jade' 23 78 47]\n",
      " ['Tommy' 45 98 14]\n",
      " ['Yonus' 78 45 44]\n",
      " ['Randy' 95 12 84]\n",
      " ['Rex' 31 95 98]\n",
      " ['Tucsan' 77 32 56]\n",
      " ['Amell' 87 78 34]\n",
      " ['Vin' 65 45 78]\n",
      " ['Hector' 32 12 78]]\n"
     ]
    }
   ],
   "source": [
    "dataset = pd.read_csv(r'C:\\Users\\user\\Desktop\\Advanced-Python-workshop\\Advanced-Python-Day-02-main\\student-marks.csv').values\n",
    "print(dataset)"
   ]
  },
  {
   "cell_type": "code",
   "execution_count": 16,
   "metadata": {},
   "outputs": [
    {
     "name": "stdout",
     "output_type": "stream",
     "text": [
      "[55.0 23.0 48.666666666666664 55.333333333333336 59.666666666666664\n",
      " 52.333333333333336 12.0 79.0 72.0 66.33333333333333 40.666666666666664\n",
      " 49.333333333333336 52.333333333333336 55.666666666666664\n",
      " 63.666666666666664 74.66666666666667 55.0 66.33333333333333\n",
      " 62.666666666666664 40.666666666666664]\n"
     ]
    }
   ],
   "source": [
    "import numpy as np\n",
    "\n",
    "avg = np.mean(dataset[:,1:],axis=1)\n",
    "print(avg)"
   ]
  },
  {
   "cell_type": "code",
   "execution_count": 17,
   "metadata": {},
   "outputs": [],
   "source": [
    "def findGrade(mark): \n",
    "    if(mark>0 and mark<35 ):\n",
    "        grade = \"F\"\n",
    "    elif(mark>=35 and mark<45 ):\n",
    "        grade = \"S\"\n",
    "    elif(mark>=45 and mark<65 ):\n",
    "        grade = \"C\"\n",
    "    elif(mark>=65 and mark<75 ):\n",
    "        grade = \"B\"\n",
    "    elif(mark>=75 and mark<=100 ):\n",
    "        grade = \"A\"\n",
    "    return grade"
   ]
  },
  {
   "cell_type": "code",
   "execution_count": 18,
   "metadata": {},
   "outputs": [
    {
     "name": "stdout",
     "output_type": "stream",
     "text": [
      "['C' 'S' 'F' 'A' 'C' 'C' 'F' 'A' 'A' 'C' 'C' 'F' 'C' 'A' 'A' 'F' 'A' 'A'\n",
      " 'B' 'F']\n",
      "[['C']\n",
      " ['S']\n",
      " ['F']\n",
      " ['A']\n",
      " ['C']\n",
      " ['C']\n",
      " ['F']\n",
      " ['A']\n",
      " ['A']\n",
      " ['C']\n",
      " ['C']\n",
      " ['F']\n",
      " ['C']\n",
      " ['A']\n",
      " ['A']\n",
      " ['F']\n",
      " ['A']\n",
      " ['A']\n",
      " ['B']\n",
      " ['F']]\n"
     ]
    }
   ],
   "source": [
    "mathsGrades=np.array([findGrade(i) for i in dataset[:,1]])\n",
    "print(mathsGrades)\n",
    "mathsGrades=mathsGrades.reshape(-1,1)\n",
    "print(mathsGrades)"
   ]
  },
  {
   "cell_type": "code",
   "execution_count": 19,
   "metadata": {},
   "outputs": [
    {
     "name": "stdout",
     "output_type": "stream",
     "text": [
      "['F' 'F' 'A' 'C' 'A' 'C' 'F' 'A' 'A' 'B' 'F' 'A' 'A' 'C' 'F' 'A' 'F' 'A'\n",
      " 'C' 'F']\n",
      "[['F']\n",
      " ['F']\n",
      " ['A']\n",
      " ['C']\n",
      " ['A']\n",
      " ['C']\n",
      " ['F']\n",
      " ['A']\n",
      " ['A']\n",
      " ['B']\n",
      " ['F']\n",
      " ['A']\n",
      " ['A']\n",
      " ['C']\n",
      " ['F']\n",
      " ['A']\n",
      " ['F']\n",
      " ['A']\n",
      " ['C']\n",
      " ['F']]\n"
     ]
    }
   ],
   "source": [
    "phyGrades=np.array([findGrade(i) for i in dataset[:,2]])\n",
    "print(phyGrades)\n",
    "phyGrades=phyGrades.reshape(-1,1)\n",
    "print(phyGrades)"
   ]
  },
  {
   "cell_type": "code",
   "execution_count": 21,
   "metadata": {},
   "outputs": [
    {
     "name": "stdout",
     "output_type": "stream",
     "text": [
      "['A' 'F' 'S' 'F' 'C' 'C' 'F' 'B' 'F' 'A' 'F' 'C' 'F' 'S' 'A' 'A' 'C' 'F'\n",
      " 'A' 'A']\n"
     ]
    }
   ],
   "source": [
    "chemGrades=np.array([findGrade(i) for i in dataset[:,3]])\n",
    "print(chemGrades)\n",
    "chemGrades=chemGrades.reshape(-1,1)"
   ]
  },
  {
   "cell_type": "code",
   "execution_count": 23,
   "metadata": {},
   "outputs": [
    {
     "name": "stdout",
     "output_type": "stream",
     "text": [
      "[[55.0]\n",
      " [23.0]\n",
      " [48.666666666666664]\n",
      " [55.333333333333336]\n",
      " [59.666666666666664]\n",
      " [52.333333333333336]\n",
      " [12.0]\n",
      " [79.0]\n",
      " [72.0]\n",
      " [66.33333333333333]\n",
      " [40.666666666666664]\n",
      " [49.333333333333336]\n",
      " [52.333333333333336]\n",
      " [55.666666666666664]\n",
      " [63.666666666666664]\n",
      " [74.66666666666667]\n",
      " [55.0]\n",
      " [66.33333333333333]\n",
      " [62.666666666666664]\n",
      " [40.666666666666664]]\n"
     ]
    }
   ],
   "source": [
    "avg = avg.reshape(-1,1)\n",
    "print(avg)"
   ]
  },
  {
   "cell_type": "code",
   "execution_count": 24,
   "metadata": {},
   "outputs": [
    {
     "name": "stdout",
     "output_type": "stream",
     "text": [
      "[['John' 45 22 98 'C']\n",
      " ['William' 44 23 2 'S']\n",
      " ['Henry' 22 89 35 'F']\n",
      " ['Chris' 88 55 23 'A']\n",
      " ['Jack' 45 89 45 'C']\n",
      " ['Stephane' 64 45 48 'C']\n",
      " ['Harald' 12 12 12 'F']\n",
      " ['Hearmy' 78 94 65 'A']\n",
      " ['Sinsel' 98 95 23 'A']\n",
      " ['George' 45 65 89 'C']\n",
      " ['James' 64 32 26 'C']\n",
      " ['Jade' 23 78 47 'F']\n",
      " ['Tommy' 45 98 14 'C']\n",
      " ['Yonus' 78 45 44 'A']\n",
      " ['Randy' 95 12 84 'A']\n",
      " ['Rex' 31 95 98 'F']\n",
      " ['Tucsan' 77 32 56 'A']\n",
      " ['Amell' 87 78 34 'A']\n",
      " ['Vin' 65 45 78 'B']\n",
      " ['Hector' 32 12 78 'F']]\n"
     ]
    }
   ],
   "source": [
    "dataset=np.append(dataset, mathsGrades, axis=1)\n",
    "print(dataset)"
   ]
  },
  {
   "cell_type": "code",
   "execution_count": 25,
   "metadata": {},
   "outputs": [
    {
     "name": "stdout",
     "output_type": "stream",
     "text": [
      "[['John' 45 22 98 'C' 'F']\n",
      " ['William' 44 23 2 'S' 'F']\n",
      " ['Henry' 22 89 35 'F' 'A']\n",
      " ['Chris' 88 55 23 'A' 'C']\n",
      " ['Jack' 45 89 45 'C' 'A']\n",
      " ['Stephane' 64 45 48 'C' 'C']\n",
      " ['Harald' 12 12 12 'F' 'F']\n",
      " ['Hearmy' 78 94 65 'A' 'A']\n",
      " ['Sinsel' 98 95 23 'A' 'A']\n",
      " ['George' 45 65 89 'C' 'B']\n",
      " ['James' 64 32 26 'C' 'F']\n",
      " ['Jade' 23 78 47 'F' 'A']\n",
      " ['Tommy' 45 98 14 'C' 'A']\n",
      " ['Yonus' 78 45 44 'A' 'C']\n",
      " ['Randy' 95 12 84 'A' 'F']\n",
      " ['Rex' 31 95 98 'F' 'A']\n",
      " ['Tucsan' 77 32 56 'A' 'F']\n",
      " ['Amell' 87 78 34 'A' 'A']\n",
      " ['Vin' 65 45 78 'B' 'C']\n",
      " ['Hector' 32 12 78 'F' 'F']]\n"
     ]
    }
   ],
   "source": [
    "dataset=np.append(dataset, phyGrades, axis=1)\n",
    "print(dataset)"
   ]
  },
  {
   "cell_type": "code",
   "execution_count": 26,
   "metadata": {},
   "outputs": [
    {
     "name": "stdout",
     "output_type": "stream",
     "text": [
      "[['John' 45 22 98 'C' 'F' 'A']\n",
      " ['William' 44 23 2 'S' 'F' 'F']\n",
      " ['Henry' 22 89 35 'F' 'A' 'S']\n",
      " ['Chris' 88 55 23 'A' 'C' 'F']\n",
      " ['Jack' 45 89 45 'C' 'A' 'C']\n",
      " ['Stephane' 64 45 48 'C' 'C' 'C']\n",
      " ['Harald' 12 12 12 'F' 'F' 'F']\n",
      " ['Hearmy' 78 94 65 'A' 'A' 'B']\n",
      " ['Sinsel' 98 95 23 'A' 'A' 'F']\n",
      " ['George' 45 65 89 'C' 'B' 'A']\n",
      " ['James' 64 32 26 'C' 'F' 'F']\n",
      " ['Jade' 23 78 47 'F' 'A' 'C']\n",
      " ['Tommy' 45 98 14 'C' 'A' 'F']\n",
      " ['Yonus' 78 45 44 'A' 'C' 'S']\n",
      " ['Randy' 95 12 84 'A' 'F' 'A']\n",
      " ['Rex' 31 95 98 'F' 'A' 'A']\n",
      " ['Tucsan' 77 32 56 'A' 'F' 'C']\n",
      " ['Amell' 87 78 34 'A' 'A' 'F']\n",
      " ['Vin' 65 45 78 'B' 'C' 'A']\n",
      " ['Hector' 32 12 78 'F' 'F' 'A']]\n"
     ]
    }
   ],
   "source": [
    "dataset=np.append(dataset, chemGrades, axis=1)\n",
    "print(dataset)"
   ]
  },
  {
   "cell_type": "code",
   "execution_count": 27,
   "metadata": {},
   "outputs": [
    {
     "name": "stdout",
     "output_type": "stream",
     "text": [
      "[['John' 45 22 98 'C' 'F' 'A' 55.0]\n",
      " ['William' 44 23 2 'S' 'F' 'F' 23.0]\n",
      " ['Henry' 22 89 35 'F' 'A' 'S' 48.666666666666664]\n",
      " ['Chris' 88 55 23 'A' 'C' 'F' 55.333333333333336]\n",
      " ['Jack' 45 89 45 'C' 'A' 'C' 59.666666666666664]\n",
      " ['Stephane' 64 45 48 'C' 'C' 'C' 52.333333333333336]\n",
      " ['Harald' 12 12 12 'F' 'F' 'F' 12.0]\n",
      " ['Hearmy' 78 94 65 'A' 'A' 'B' 79.0]\n",
      " ['Sinsel' 98 95 23 'A' 'A' 'F' 72.0]\n",
      " ['George' 45 65 89 'C' 'B' 'A' 66.33333333333333]\n",
      " ['James' 64 32 26 'C' 'F' 'F' 40.666666666666664]\n",
      " ['Jade' 23 78 47 'F' 'A' 'C' 49.333333333333336]\n",
      " ['Tommy' 45 98 14 'C' 'A' 'F' 52.333333333333336]\n",
      " ['Yonus' 78 45 44 'A' 'C' 'S' 55.666666666666664]\n",
      " ['Randy' 95 12 84 'A' 'F' 'A' 63.666666666666664]\n",
      " ['Rex' 31 95 98 'F' 'A' 'A' 74.66666666666667]\n",
      " ['Tucsan' 77 32 56 'A' 'F' 'C' 55.0]\n",
      " ['Amell' 87 78 34 'A' 'A' 'F' 66.33333333333333]\n",
      " ['Vin' 65 45 78 'B' 'C' 'A' 62.666666666666664]\n",
      " ['Hector' 32 12 78 'F' 'F' 'A' 40.666666666666664]]\n"
     ]
    }
   ],
   "source": [
    "dataset=np.append(dataset, avg, axis=1)\n",
    "print(dataset)"
   ]
  },
  {
   "cell_type": "code",
   "execution_count": 28,
   "metadata": {},
   "outputs": [],
   "source": [
    "np.save('new-dataset', dataset)"
   ]
  },
  {
   "cell_type": "code",
   "execution_count": 29,
   "metadata": {},
   "outputs": [
    {
     "ename": "TypeError",
     "evalue": "Mismatch between array dtype ('object') and format specifier ('%.18e,%.18e,%.18e,%.18e,%.18e,%.18e,%.18e,%.18e')",
     "output_type": "error",
     "traceback": [
      "\u001b[1;31m---------------------------------------------------------------------------\u001b[0m",
      "\u001b[1;31mTypeError\u001b[0m                                 Traceback (most recent call last)",
      "\u001b[1;32mC:\\ProgramData\\Anaconda3\\lib\\site-packages\\numpy\\lib\\npyio.py\u001b[0m in \u001b[0;36msavetxt\u001b[1;34m(fname, X, fmt, delimiter, newline, header, footer, comments, encoding)\u001b[0m\n\u001b[0;32m   1446\u001b[0m                 \u001b[1;32mtry\u001b[0m\u001b[1;33m:\u001b[0m\u001b[1;33m\u001b[0m\u001b[1;33m\u001b[0m\u001b[0m\n\u001b[1;32m-> 1447\u001b[1;33m                     \u001b[0mv\u001b[0m \u001b[1;33m=\u001b[0m \u001b[0mformat\u001b[0m \u001b[1;33m%\u001b[0m \u001b[0mtuple\u001b[0m\u001b[1;33m(\u001b[0m\u001b[0mrow\u001b[0m\u001b[1;33m)\u001b[0m \u001b[1;33m+\u001b[0m \u001b[0mnewline\u001b[0m\u001b[1;33m\u001b[0m\u001b[1;33m\u001b[0m\u001b[0m\n\u001b[0m\u001b[0;32m   1448\u001b[0m                 \u001b[1;32mexcept\u001b[0m \u001b[0mTypeError\u001b[0m\u001b[1;33m:\u001b[0m\u001b[1;33m\u001b[0m\u001b[1;33m\u001b[0m\u001b[0m\n",
      "\u001b[1;31mTypeError\u001b[0m: must be real number, not str",
      "\nDuring handling of the above exception, another exception occurred:\n",
      "\u001b[1;31mTypeError\u001b[0m                                 Traceback (most recent call last)",
      "\u001b[1;32m<ipython-input-29-b5ea77573c95>\u001b[0m in \u001b[0;36m<module>\u001b[1;34m\u001b[0m\n\u001b[1;32m----> 1\u001b[1;33m \u001b[0mnp\u001b[0m\u001b[1;33m.\u001b[0m\u001b[0msavetxt\u001b[0m\u001b[1;33m(\u001b[0m\u001b[1;34m'dataset-new.csv'\u001b[0m\u001b[1;33m,\u001b[0m \u001b[0mdataset\u001b[0m\u001b[1;33m,\u001b[0m \u001b[0mdelimiter\u001b[0m\u001b[1;33m=\u001b[0m\u001b[1;34m\",\"\u001b[0m\u001b[1;33m)\u001b[0m\u001b[1;33m\u001b[0m\u001b[1;33m\u001b[0m\u001b[0m\n\u001b[0m",
      "\u001b[1;32m<__array_function__ internals>\u001b[0m in \u001b[0;36msavetxt\u001b[1;34m(*args, **kwargs)\u001b[0m\n",
      "\u001b[1;32mC:\\ProgramData\\Anaconda3\\lib\\site-packages\\numpy\\lib\\npyio.py\u001b[0m in \u001b[0;36msavetxt\u001b[1;34m(fname, X, fmt, delimiter, newline, header, footer, comments, encoding)\u001b[0m\n\u001b[0;32m   1449\u001b[0m                     raise TypeError(\"Mismatch between array dtype ('%s') and \"\n\u001b[0;32m   1450\u001b[0m                                     \u001b[1;34m\"format specifier ('%s')\"\u001b[0m\u001b[1;33m\u001b[0m\u001b[1;33m\u001b[0m\u001b[0m\n\u001b[1;32m-> 1451\u001b[1;33m                                     % (str(X.dtype), format))\n\u001b[0m\u001b[0;32m   1452\u001b[0m                 \u001b[0mfh\u001b[0m\u001b[1;33m.\u001b[0m\u001b[0mwrite\u001b[0m\u001b[1;33m(\u001b[0m\u001b[0mv\u001b[0m\u001b[1;33m)\u001b[0m\u001b[1;33m\u001b[0m\u001b[1;33m\u001b[0m\u001b[0m\n\u001b[0;32m   1453\u001b[0m \u001b[1;33m\u001b[0m\u001b[0m\n",
      "\u001b[1;31mTypeError\u001b[0m: Mismatch between array dtype ('object') and format specifier ('%.18e,%.18e,%.18e,%.18e,%.18e,%.18e,%.18e,%.18e')"
     ]
    }
   ],
   "source": [
    "np.savetxt('dataset-new.csv', dataset, delimiter=\",\")"
   ]
  },
  {
   "cell_type": "code",
   "execution_count": 30,
   "metadata": {},
   "outputs": [
    {
     "name": "stdout",
     "output_type": "stream",
     "text": [
      "           0   1   2   3  4  5  6        7\n",
      "0       John  45  22  98  C  F  A       55\n",
      "1    William  44  23   2  S  F  F       23\n",
      "2      Henry  22  89  35  F  A  S  48.6667\n",
      "3      Chris  88  55  23  A  C  F  55.3333\n",
      "4       Jack  45  89  45  C  A  C  59.6667\n",
      "5   Stephane  64  45  48  C  C  C  52.3333\n",
      "6     Harald  12  12  12  F  F  F       12\n",
      "7     Hearmy  78  94  65  A  A  B       79\n",
      "8     Sinsel  98  95  23  A  A  F       72\n",
      "9     George  45  65  89  C  B  A  66.3333\n",
      "10     James  64  32  26  C  F  F  40.6667\n",
      "11      Jade  23  78  47  F  A  C  49.3333\n",
      "12     Tommy  45  98  14  C  A  F  52.3333\n",
      "13     Yonus  78  45  44  A  C  S  55.6667\n",
      "14     Randy  95  12  84  A  F  A  63.6667\n",
      "15       Rex  31  95  98  F  A  A  74.6667\n",
      "16    Tucsan  77  32  56  A  F  C       55\n",
      "17     Amell  87  78  34  A  A  F  66.3333\n",
      "18       Vin  65  45  78  B  C  A  62.6667\n",
      "19    Hector  32  12  78  F  F  A  40.6667\n"
     ]
    }
   ],
   "source": [
    "df=pd.DataFrame(data=dataset)\n",
    "print(df)"
   ]
  },
  {
   "cell_type": "code",
   "execution_count": 31,
   "metadata": {},
   "outputs": [
    {
     "name": "stdout",
     "output_type": "stream",
     "text": [
      "        name Maths Physics Chemistry m-grade p-grade c-grade    Grade\n",
      "0       John    45      22        98       C       F       A       55\n",
      "1    William    44      23         2       S       F       F       23\n",
      "2      Henry    22      89        35       F       A       S  48.6667\n",
      "3      Chris    88      55        23       A       C       F  55.3333\n",
      "4       Jack    45      89        45       C       A       C  59.6667\n",
      "5   Stephane    64      45        48       C       C       C  52.3333\n",
      "6     Harald    12      12        12       F       F       F       12\n",
      "7     Hearmy    78      94        65       A       A       B       79\n",
      "8     Sinsel    98      95        23       A       A       F       72\n",
      "9     George    45      65        89       C       B       A  66.3333\n",
      "10     James    64      32        26       C       F       F  40.6667\n",
      "11      Jade    23      78        47       F       A       C  49.3333\n",
      "12     Tommy    45      98        14       C       A       F  52.3333\n",
      "13     Yonus    78      45        44       A       C       S  55.6667\n",
      "14     Randy    95      12        84       A       F       A  63.6667\n",
      "15       Rex    31      95        98       F       A       A  74.6667\n",
      "16    Tucsan    77      32        56       A       F       C       55\n",
      "17     Amell    87      78        34       A       A       F  66.3333\n",
      "18       Vin    65      45        78       B       C       A  62.6667\n",
      "19    Hector    32      12        78       F       F       A  40.6667\n"
     ]
    }
   ],
   "source": [
    "df=pd.DataFrame(data=dataset, columns=[\"name\", \"Maths\", \"Physics\", \"Chemistry\", \"m-grade\", \"p-grade\", \"c-grade\", \"Grade\"])\n",
    "print(df)"
   ]
  },
  {
   "cell_type": "code",
   "execution_count": null,
   "metadata": {},
   "outputs": [],
   "source": [
    "df.to_csv('new-dataset.csv', index=False)"
   ]
  }
 ],
 "metadata": {
  "kernelspec": {
   "display_name": "Python 3",
   "language": "python",
   "name": "python3"
  },
  "language_info": {
   "codemirror_mode": {
    "name": "ipython",
    "version": 3
   },
   "file_extension": ".py",
   "mimetype": "text/x-python",
   "name": "python",
   "nbconvert_exporter": "python",
   "pygments_lexer": "ipython3",
   "version": "3.7.6"
  }
 },
 "nbformat": 4,
 "nbformat_minor": 4
}
